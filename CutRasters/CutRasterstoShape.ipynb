{
 "cells": [
  {
   "cell_type": "code",
   "execution_count": 1,
   "id": "30258361-7109-4be5-af62-9e336a4ef6ac",
   "metadata": {},
   "outputs": [],
   "source": [
    "import geopandas as gpd\n",
    "import rasterio\n",
    "from rasterio.mask import mask"
   ]
  },
  {
   "cell_type": "code",
   "execution_count": 2,
   "id": "f7ac961c-0853-4bd8-9d21-df1e9c95691d",
   "metadata": {},
   "outputs": [],
   "source": [
    "tif_path  = r\"C:\\Users\\dskcy\\UEInfo\\Stats\\GDP\\GDP_025d (2000-2100)\\025d\\GDP2020.tif\"\n",
    "output_path = \"clipped_output.tif\""
   ]
  },
  {
   "cell_type": "code",
   "execution_count": 6,
   "id": "aea2fd07-525a-47f9-9f66-750a46ff2d40",
   "metadata": {},
   "outputs": [],
   "source": [
    "# Load the vector (GeoDataFrame)\n",
    "gdf = gpd.read_file(r\"C:\\Users\\dskcy\\UEInfo\\EmissionsInventory_SolidWaste\\assets\\INDIA_STATES.geojson\")"
   ]
  },
  {
   "cell_type": "code",
   "execution_count": 7,
   "id": "79d05129-1808-45c7-9c7b-4138888d3603",
   "metadata": {},
   "outputs": [],
   "source": [
    "# Reproject vector to match raster CRS (important!)\n",
    "with rasterio.open(tif_path) as src:\n",
    "    if gdf.crs != src.crs:\n",
    "        gdf = gdf.to_crs(src.crs)\n",
    "\n",
    "    # Convert geometry to GeoJSON-like mapping\n",
    "    geoms = [feature.__geo_interface__ for feature in gdf.geometry]\n",
    "\n",
    "    # Clip the raster\n",
    "    clipped_image, clipped_transform = mask(dataset=src, shapes=geoms, crop=True)\n",
    "    clipped_meta = src.meta.copy()\n"
   ]
  },
  {
   "cell_type": "code",
   "execution_count": 8,
   "id": "51025b9e-89a7-4ee6-bae2-05768c95167e",
   "metadata": {},
   "outputs": [],
   "source": [
    "# Update metadata\n",
    "clipped_meta.update({\n",
    "    \"driver\": \"GTiff\",\n",
    "    \"height\": clipped_image.shape[1],\n",
    "    \"width\": clipped_image.shape[2],\n",
    "    \"transform\": clipped_transform\n",
    "})\n",
    "\n",
    "# Save the clipped raster\n",
    "with rasterio.open(output_path, \"w\", **clipped_meta) as dest:\n",
    "    dest.write(clipped_image)"
   ]
  },
  {
   "cell_type": "code",
   "execution_count": null,
   "id": "1f225c7e-a560-4a11-bae1-6ce3f11b94d3",
   "metadata": {},
   "outputs": [],
   "source": []
  }
 ],
 "metadata": {
  "kernelspec": {
   "display_name": "Python 3 (ipykernel)",
   "language": "python",
   "name": "python3"
  },
  "language_info": {
   "codemirror_mode": {
    "name": "ipython",
    "version": 3
   },
   "file_extension": ".py",
   "mimetype": "text/x-python",
   "name": "python",
   "nbconvert_exporter": "python",
   "pygments_lexer": "ipython3",
   "version": "3.11.7"
  }
 },
 "nbformat": 4,
 "nbformat_minor": 5
}
